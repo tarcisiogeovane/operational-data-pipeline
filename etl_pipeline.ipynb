{
 "cells": [
  {
   "metadata": {},
   "cell_type": "code",
   "outputs": [],
   "execution_count": null,
   "source": "",
   "id": "b5efaba07c171a9"
  }
 ],
 "metadata": {},
 "nbformat": 4,
 "nbformat_minor": 5
}
